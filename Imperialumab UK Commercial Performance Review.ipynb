{
 "cells": [
  {
   "cell_type": "markdown",
   "metadata": {},
   "source": [
    "# <center> Imperialumab<br>Commercial Performance Review of the UK Market<center>  \n",
    "    \n",
    "## <center>UK Business Intelligence Team<br>September 2019<center>  \n",
    "    \n",
    "### <center>Report By: Group 8<br>Karthikeyan Arunachalam, Jan Baalmann, Rylan Mascarenhas, Fay Korkontzelou, Dimitra Spyridonidou</center> \n",
    "\n",
    "***"
   ]
  },
  {
   "cell_type": "markdown",
   "metadata": {},
   "source": [
    "## Table of Contents  \n",
    "1. Executive Summary  \n",
    "2. Introduction  \n",
    "    2.1 Context  \n",
    "    2.2 Approach    \n",
    "    2.3 Hypothesis  \n",
    "3. Analysis  \n",
    "    3.1 Net Sales  \n",
    "    3.2 Clinical Profile  \n",
    "    3.3 Promotional Activity  \n",
    "    3.4 ICER Data   \n",
    "4. Recommendation Summary  \n",
    "    4.1 Findings  \n",
    "    4.2 Recommendations  \n",
    "5. References\n",
    "\n",
    "***"
   ]
  },
  {
   "cell_type": "markdown",
   "metadata": {},
   "source": [
    "## 1. Executive Summary  \n",
    "\n",
    "#### <font color='blue'> 52% </font> decrease in Imperialumab market share since April 2017\n",
    "* Although sales have continuously been increasing, growth in the past 12 months has been stagnating.\n",
    "* Low sales growth coincides with Uclumab's and Kingsumab's market entry, and particularly high continuous growth of Kingumab.  \n",
    "* Following entry of competitors Imperialumab has lost 48% of market share to them in the past 12 months. \n",
    "* Imperialumab remains the market leader with 48% of sales, closely followed by Kingsumab at 44%. Uclumab is far behind with 8% of market share.    \n",
    "  \n",
    "#### Imperialumab outranks its competitors in <font color='blue'> 3 out of 5 </font> of clinical characteristics. However, this differentiation has not been successfully conveyed to physicians  \n",
    "* Missed opportunities for Imperialumab to communicate to physicians the drugs superiority for <font color='blue'>Efficacy</font>, <font color='blue'>Side effects</font> and <font color='blue'>Formulation profiles </font>.  \n",
    "* Imperialumab ranks 2nd in Dosing however it is far behind Kingsumab in survey recall study with 18% vs 35%. So, there is opportunity to focus effort on dosing profile promotion to close this gap.  \n",
    "  \n",
    "#### Significant deviation from optimal interaction mix for <font color='blue'>Medical Education</font> and <font color='blue'>Unsolicited emails</font> activities  \n",
    "* Medical Education activity is significantly lower than the optimum across all UK regions. \n",
    "* Unsolicited e-mail activity is generally significantly higher than the optimal amount - negative effect caused by wasted effort for that particular segment.  \n",
    "* Promotional efforts are close to optimum for Face to Face and Hard mail interactions with some room for improvement in certain regions.\n",
    "  \n",
    "#### Switching to a competitor drug therapy could be beneficial either in terms of the effectiveness or in terms of the cost difference, but the <font color='blue'>ICER is always negative</font>  \n",
    "* This result indicates there is no benefit to a patient switching treatments since the competitors are not significantly differentiated.  \n",
    "    \n",
    "####  *Based on our analysis, the recent drop in sales growth and loss of market share to Kingsumab is due to the underused channel of Medical Education and ineffective promotion of advantageous clinical characteristics of Imperialumab to phycisians.*   \n",
    "\n",
    "\n",
    "#### Recommendations:  \n",
    "* Revise promotional material to focus on Efficacy, Side effects, Formulation and Dosing Profile and stregthen positioning of Imperialumab against it's competitors.\n",
    "* Increase Medical Education interaction with physicians across the UK in order to raise awareness, specifically in the areas of clinical attributes which Imperialumab fares better than the competing drugs and ultimately help increase sales growth.  \n",
    "* Reduce Unsolicited emails to the proposed optimum levels to eliminate the negative impact on outcome parameters.  \n",
    "* Efforts should be concentrated to increase sales and restore market share in the next 24 months. After 2021-22 when Kingsumab and Uclumab patents expire, the original molecule can be copied by other generics and sold at a significantly lower price. Imperiaumab should ensure that they can acquire a strong sales margin to afford a drop in price in the future that will be caused by increased competition.\n",
    "\n",
    "***"
   ]
  },
  {
   "cell_type": "markdown",
   "metadata": {},
   "source": [
    "## 2. Introduction  \n",
    "  \n",
    "**2.1 Context**  \n",
    "\n",
    "Imperialumab is an established pancreatic cancer treating drug which was released in the market in March 2017. It enjoyed a near-monopoly in pancreatic cancer treatment and a steady growth rate in terms of net sales until new competing drugs - Uclumab and Kingsumab were released in the market in April 2018. This caused a decline in the growth rate of the net sales of the Imperialumab drug. This report analyses the return phase performance of this drug to investigate the cause of it's declining growth rate and understand how the market positioning and promotional campaigns can be structured so as to sustain the growth rate of Imperialumab's sales in the remaining period of its patent before it becomes genericised. \n",
    "\n",
    "The net sales, clinical features, message recall survey, effectiveness of promotional campaigns and ICER data will be analysed for each of the drugs to make the right recommendations for market positioning of Imperialumab against the competing drugs. "
   ]
  },
  {
   "cell_type": "markdown",
   "metadata": {},
   "source": [
    "**2.2 Approach**\n",
    "\n",
    "We first determine the trend in the net sales of the Imperialumab drug since its launch in March 2017 and compare it with the other drugs launched in April 2018. We also determine how the market share of the drug changes with the advent of new drugs.  \n",
    "\n",
    "Then, based on the given clinical attributes of the individual drugs - safety, dosing, efficacy and side effects we analyse the message recall survey of the doctors / physicians. This gives us an understanding of how doctors / physicians perceive the drug in comparison with the competing drugs as per their respective clinical attributes. So, wherever a salient feature of Imperialumab is not sufficiently recognised or recalled by the doctors / physicians, there is room for potential improvement from representatives or further promotional campaigns to address the marketing gap.\n",
    "\n",
    "Next, we analyse the frequency of interactions such as face-to-face, medical education, unsolicited emails and hard mails for various regions in the UK for Imperialumab as well as the other drugs, against the optimum number for each of the interactions. This enables us to understand whether there is a shortcoming or overdoing in terms of efforts to interact with the doctors / physicians and allows us to quantitatively evaluate the effect of the promotional activities. This approach helps us to determine the effectiveness of the market position of the drug with respect to the competing drugs.\n",
    "\n",
    "Finally, we analyse the ICER data values (cost/QALY) of the individual drugs to evaluate and compare their cost-effectiveness. "
   ]
  },
  {
   "cell_type": "markdown",
   "metadata": {},
   "source": [
    "**2.3 Hypothesis**\n",
    "\n",
    "The decreasing growth rate of the sales of the Imperialumab drug could be attributed to,  \n",
    "* increasing market competition\n",
    "* more effective market positioning of competitor drug(s)\n",
    "* optimal interactions of competitor campaigns with the targeted audience"
   ]
  },
  {
   "cell_type": "markdown",
   "metadata": {},
   "source": [
    "## 3. Analysis  \n",
    "**3.1 Net Sales**"
   ]
  },
  {
   "cell_type": "code",
   "execution_count": 1,
   "metadata": {},
   "outputs": [],
   "source": [
    "import pandas as pd\n",
    "import numpy as np\n",
    "import matplotlib.pyplot as plt\n",
    "import matplotlib.dates as mdates"
   ]
  },
  {
   "cell_type": "code",
   "execution_count": 2,
   "metadata": {},
   "outputs": [
    {
     "name": "stdout",
     "output_type": "stream",
     "text": [
      "timeframe:(2017-03-01 00:00:00 - 2019-06-01 00:00:00)\n"
     ]
    },
    {
     "data": {
      "text/html": [
       "<div>\n",
       "<style scoped>\n",
       "    .dataframe tbody tr th:only-of-type {\n",
       "        vertical-align: middle;\n",
       "    }\n",
       "\n",
       "    .dataframe tbody tr th {\n",
       "        vertical-align: top;\n",
       "    }\n",
       "\n",
       "    .dataframe thead th {\n",
       "        text-align: right;\n",
       "    }\n",
       "</style>\n",
       "<table border=\"1\" class=\"dataframe\">\n",
       "  <thead>\n",
       "    <tr style=\"text-align: right;\">\n",
       "      <th></th>\n",
       "      <th>Imperialumab</th>\n",
       "    </tr>\n",
       "  </thead>\n",
       "  <tbody>\n",
       "    <tr>\n",
       "      <th>2017-03-01</th>\n",
       "      <td>0.0</td>\n",
       "    </tr>\n",
       "    <tr>\n",
       "      <th>2017-04-01</th>\n",
       "      <td>10.0</td>\n",
       "    </tr>\n",
       "    <tr>\n",
       "      <th>2017-05-01</th>\n",
       "      <td>12.0</td>\n",
       "    </tr>\n",
       "    <tr>\n",
       "      <th>2017-06-01</th>\n",
       "      <td>15.0</td>\n",
       "    </tr>\n",
       "    <tr>\n",
       "      <th>2017-07-01</th>\n",
       "      <td>55.0</td>\n",
       "    </tr>\n",
       "  </tbody>\n",
       "</table>\n",
       "</div>"
      ],
      "text/plain": [
       "            Imperialumab\n",
       "2017-03-01           0.0\n",
       "2017-04-01          10.0\n",
       "2017-05-01          12.0\n",
       "2017-06-01          15.0\n",
       "2017-07-01          55.0"
      ]
     },
     "execution_count": 2,
     "metadata": {},
     "output_type": "execute_result"
    }
   ],
   "source": [
    "# load data for Imperialumab sales\n",
    "imp_sales = pd.read_excel(\"imperialumab-analytics-workshop.xlsx\", sheet_name=\"1. Imperialumab Sales\", header=3, index_col=1)\n",
    "imp_sales = imp_sales.transpose()\n",
    "imp_sales.index = pd.to_datetime(imp_sales.index,errors='coerce')\n",
    "imp_sales=imp_sales.dropna()\n",
    "print('timeframe:({0} - {1})'.format(imp_sales.index.min(),imp_sales.index.max()))\n",
    "imp_sales.head()"
   ]
  },
  {
   "cell_type": "code",
   "execution_count": 3,
   "metadata": {},
   "outputs": [
    {
     "data": {
      "image/png": "[encoded data removed]",
      "text/plain": [
       "<Figure size 432x288 with 1 Axes>"
      ]
     },
     "metadata": {
      "needs_background": "light"
     },
     "output_type": "display_data"
    }
   ],
   "source": [
    "imp_sales.plot(legend=False)\n",
    "plt.ylabel('Net trade sales ($ Millions)')\n",
    "plt.xlabel('Months')\n",
    "plt.title('Imperialumab Sales: Mar17 - Jun19', fontsize=14)\n",
    "plt.show()"
   ]
  },
  {
   "cell_type": "code",
   "execution_count": 4,
   "metadata": {},
   "outputs": [
    {
     "data": {
      "image/png": "[encoded data removed]",
      "text/plain": [
       "<Figure size 432x288 with 1 Axes>"
      ]
     },
     "metadata": {
      "needs_background": "light"
     },
     "output_type": "display_data"
    }
   ],
   "source": [
    "# determine growth rate of Imperialumab net sales\n",
    "imp_sales_gr = imp_sales.iloc[1:].pct_change() # delete first row (first year sales) for growth rate calculation\n",
    "imp_sales_gr['Imperialumab']= imp_sales_gr['Imperialumab'].apply(lambda x: x*100) #convert growth rates to percentage values\n",
    "imp_sales_gr.plot(legend=False)\n",
    "plt.ylabel('% change')\n",
    "plt.xlabel('Months')\n",
    "plt.title('Growth rate of Imperialumab Sales: Mar17 - Jun19', fontsize=14)\n",
    "plt.show()"
   ]
  },
  {
   "cell_type": "markdown",
   "metadata": {},
   "source": [
    "The above curve shows the growth rate of sales of Imperialumab over the course of 2 years. It can be seen that at the initial stage from March 2017 until Jul 2017, the growth rate was very high. This was probably because at the initial stage, there were no alternatives to treatment of pancreatic cancer and the advent of this new drug created a very positive market response. However, this growth rate started to decrease after July 2017, well before the advent of the competing drugs. The introduction of the new drugs released in April 2018 kept the growth rate closer to 0. "
   ]
  },
  {
   "cell_type": "code",
   "execution_count": 5,
   "metadata": {
    "scrolled": false
   },
   "outputs": [
    {
     "name": "stdout",
     "output_type": "stream",
     "text": [
      "timeframe of sales data:(2018-05-01 00:00:00 - 2019-06-01 00:00:00)\n"
     ]
    },
    {
     "data": {
      "text/html": [
       "<div>\n",
       "<style scoped>\n",
       "    .dataframe tbody tr th:only-of-type {\n",
       "        vertical-align: middle;\n",
       "    }\n",
       "\n",
       "    .dataframe tbody tr th {\n",
       "        vertical-align: top;\n",
       "    }\n",
       "\n",
       "    .dataframe thead th {\n",
       "        text-align: right;\n",
       "    }\n",
       "</style>\n",
       "<table border=\"1\" class=\"dataframe\">\n",
       "  <thead>\n",
       "    <tr style=\"text-align: right;\">\n",
       "      <th></th>\n",
       "      <th>Uclumab</th>\n",
       "      <th>Kingsumab</th>\n",
       "    </tr>\n",
       "  </thead>\n",
       "  <tbody>\n",
       "    <tr>\n",
       "      <th>2017-03-01</th>\n",
       "      <td>0.0</td>\n",
       "      <td>0.0</td>\n",
       "    </tr>\n",
       "    <tr>\n",
       "      <th>2017-04-01</th>\n",
       "      <td>0.0</td>\n",
       "      <td>0.0</td>\n",
       "    </tr>\n",
       "    <tr>\n",
       "      <th>2017-05-01</th>\n",
       "      <td>0.0</td>\n",
       "      <td>0.0</td>\n",
       "    </tr>\n",
       "    <tr>\n",
       "      <th>2017-06-01</th>\n",
       "      <td>0.0</td>\n",
       "      <td>0.0</td>\n",
       "    </tr>\n",
       "    <tr>\n",
       "      <th>2017-07-01</th>\n",
       "      <td>0.0</td>\n",
       "      <td>0.0</td>\n",
       "    </tr>\n",
       "  </tbody>\n",
       "</table>\n",
       "</div>"
      ],
      "text/plain": [
       "            Uclumab  Kingsumab\n",
       "2017-03-01      0.0        0.0\n",
       "2017-04-01      0.0        0.0\n",
       "2017-05-01      0.0        0.0\n",
       "2017-06-01      0.0        0.0\n",
       "2017-07-01      0.0        0.0"
      ]
     },
     "execution_count": 5,
     "metadata": {},
     "output_type": "execute_result"
    }
   ],
   "source": [
    "# load data for Uclumab and Kingsumab\n",
    "comp_sales = pd.read_excel(\"imperialumab-analytics-workshop.xlsx\", sheet_name=\"2. Competitor Sales\", header=3, index_col=1)\n",
    "comp_sales = comp_sales.transpose()\n",
    "#comp_sales = comp_sales.drop([\"Unnamed: 0\"])\n",
    "comp_sales.index = pd.to_datetime(comp_sales.index,errors='coerce')\n",
    "comp_sales=comp_sales.dropna()\n",
    "print('timeframe of sales data:({0} - {1})'.format(\n",
    "    comp_sales.loc[(comp_sales.Uclumab!=0)&(comp_sales.Kingsumab!=0)].index.min(),comp_sales.index.max()))\n",
    "comp_sales.head()"
   ]
  },
  {
   "cell_type": "code",
   "execution_count": 6,
   "metadata": {},
   "outputs": [],
   "source": [
    "def draw_net_sales():\n",
    "    fig, ax = plt.subplots(figsize=(8,4))\n",
    "    # plot lines\n",
    "    ax.plot(imp_sales, label = 'Imperialumab')\n",
    "    ax.plot(comp_sales.Uclumab, label = 'Uclumab')\n",
    "    ax.plot(comp_sales.Kingsumab, label = 'Kingsumab')\n",
    "    # draw vertical line to mark start of sales for ucl and kings\n",
    "    plt.axvline(x='2018-04-01', color = 'grey', linestyle='--', linewidth = 0.7)\n",
    "    # custom xticks\n",
    "    datemin = np.datetime64(imp_sales.index[0])\n",
    "    datemax = np.datetime64(imp_sales.index[-1]) + np.timedelta64(1)\n",
    "    ax.set_xlim(datemin, datemax)\n",
    "    ax.xaxis.set_major_locator(mdates.MonthLocator(interval=1))\n",
    "    ax.xaxis.set_major_formatter(mdates.DateFormatter('%b-%y'))\n",
    "    plt.xticks(rotation=90)\n",
    "    # set labels,title,legend\n",
    "    plt.ylabel('Net trade sales ($ Millions)')\n",
    "    plt.xlabel('Months')\n",
    "    plt.title('Figure 1(a): Net Trade Sales for Mar17 - Jun19', fontsize=12, y=1.05)\n",
    "    ax.legend(frameon=False)\n",
    "    plt.show()"
   ]
  },
  {
   "cell_type": "code",
   "execution_count": 7,
   "metadata": {},
   "outputs": [],
   "source": [
    "def draw_sales_share():\n",
    "    f, ax = plt.subplots(1, figsize=(8,4))\n",
    "    # Set bar width at 1\n",
    "    bar_width = 1\n",
    "    # positions of bar\n",
    "    bar_l = [i+(bar_width/2) for i in range(len(imp_sales['Imperialumab'][1:]))] \n",
    "    # value and position of ticks\n",
    "    ticks = imp_sales.index[1:].strftime('%b-%y')\n",
    "    tick_pos = [i for i in bar_l]\n",
    "    # values of bars\n",
    "    totals = [i+j+k for i,j,k in zip(imp_sales['Imperialumab'][1:], comp_sales['Uclumab'][1:], comp_sales['Kingsumab'][1:])]\n",
    "    imp = [i / j * 100 for  i,j in zip(imp_sales['Imperialumab'][1:], totals)]\n",
    "    ucl = [i / j * 100 for  i,j in zip(comp_sales['Uclumab'][1:], totals)]\n",
    "    kings = [i / j * 100 for  i,j in zip(comp_sales['Kingsumab'][1:], totals)]\n",
    "    # draw bar charts \n",
    "    ax.bar(bar_l, imp, label='Imperialumab', alpha=0.9, width=bar_width, edgecolor='white')\n",
    "    ax.bar(bar_l, ucl, bottom=imp, label='Uclumab', alpha=0.9, width=bar_width, edgecolor='white')\n",
    "    ax.bar(bar_l, kings, bottom=[i+j for i,j in zip(imp, ucl)], label='Kingsumab', alpha=0.9, width=bar_width, \n",
    "           edgecolor='white')\n",
    "    # set ticks,labels,title,legend\n",
    "    plt.xticks(tick_pos, ticks, rotation=90)\n",
    "    ax.set_ylabel(\"Percentage\")\n",
    "    ax.set_xlabel(\"Months\")\n",
    "    ax.set_xlim(0, 27)\n",
    "    plt.legend(loc='upper left')\n",
    "    plt.title('Figure 1(b): Market Share for Mar17 - Jun19', fontsize=12, y=1.05)\n",
    "    # draw\n",
    "    plt.show()"
   ]
  },
  {
   "cell_type": "code",
   "execution_count": 8,
   "metadata": {},
   "outputs": [
    {
     "data": {
      "image/png": "[encoded data removed]",
      "text/plain": [
       "<Figure size 576x288 with 1 Axes>"
      ]
     },
     "metadata": {
      "needs_background": "light"
     },
     "output_type": "display_data"
    },
    {
     "data": {
      "image/png": "[encoded data removed]",
      "text/plain": [
       "<Figure size 576x288 with 1 Axes>"
      ]
     },
     "metadata": {
      "needs_background": "light"
     },
     "output_type": "display_data"
    }
   ],
   "source": [
    "draw_net_sales()\n",
    "draw_sales_share()"
   ]
  },
  {
   "cell_type": "markdown",
   "metadata": {},
   "source": [
    "Figure 1(a) and 1(b) give a  clearer picture of the sales stats for the 3 drugs in the given time period. Up until April 2018, Imperialumab was the sole player in the market for the treatment of pancreatic cancer; a timeframe in which we saw a rapid increase in sales. However, once Uclumab and Kingsumab entered the market, their increasing sales correlated with the drop in the growth of sales for Imperialumab. In particular, Kingsumab sales can be seen to be increasing at a higher rate compared to that of Uclumab sales and this could be a fundamental reason behind the slowing sales growth rate of Imperialumab. "
   ]
  },
  {
   "cell_type": "code",
   "execution_count": 9,
   "metadata": {},
   "outputs": [
    {
     "name": "stdout",
     "output_type": "stream",
     "text": [
      "Imperialumab market share dropped a total of \n",
      "52.04% to 47.87% from May 2018 to June 2019 \n",
      "\n",
      "All-time market share from May 2018 to June 2019 is: \n",
      "Imperialumab: 65.3% \n",
      "Uclumab: 7.27% \n",
      "Kingsumab:27.43%\n"
     ]
    }
   ],
   "source": [
    "sales_df = imp_sales.merge(comp_sales, right_index=True, left_index=True)\n",
    "sales_df = sales_df.drop(pd.to_datetime('2017-03-01'))\n",
    "sales_df = sales_df.eval('Total = Imperialumab + Uclumab + Kingsumab')\n",
    "sales_df = sales_df.eval('Imp_share = Imperialumab/Total')\n",
    "sales_df = sales_df.eval('Ucl_share = Uclumab/Total')\n",
    "sales_df = sales_df.eval('Kings_share = Kingsumab/Total')\n",
    "\n",
    "print('Imperialumab market share dropped a total of \\n{0}% to {1}% from May 2018 to June 2019 \\n'.format(\n",
    "    round((1-sales_df.Imp_share[-1])*100,2),\n",
    "    round((sales_df.Imp_share[pd.to_datetime('2018-05-01')]-sales_df.Imp_share[-1])*100,2)))\n",
    "print('All-time market share from May 2018 to June 2019 is: \\nImperialumab: {0}% \\nUclumab: {1}% \\nKingsumab:{2}%'.format(\n",
    "    round((np.mean(sales_df.Imp_share[pd.to_datetime('2018-05-01'):]))*100,2),\n",
    "    round((np.mean(sales_df.Ucl_share[pd.to_datetime('2018-05-01'):]))*100,2),\n",
    "    round((np.mean(sales_df.Kings_share[pd.to_datetime('2018-05-01'):]))*100,2)))"
   ]
  },
  {
   "cell_type": "markdown",
   "metadata": {},
   "source": [
    "**3.2 Clinical Profile**  \n",
    "  \n",
    "**Comparison and Message Recall Survey**   \n",
    "  \n",
    "2 different competing drugs for treatment of pancreatic cancer have reached the market. Their clinical attributes in comparison with Imperialumab are summarised in the table below. These clinical characteristics are used by physicians to compare data from their clinical trials when considering which drug to use for their patients.\n",
    "\n",
    "For differentiating Imperialumab over its competitors Uclumab and Kingsumab, it is critical to understand the competitive position of Imperialumab in the market. It is evident from the summarised clinical profile below that Imperialumab holds a strong position compared to it's competitors - it is classified as first for four out of five of the clinical attributes below. For 3 of those attributes - efficacy , side effect profile and formulation, Imperialumab outranks Uclumab and Kingsumab which are rated second or third class. \n",
    "\n",
    "Therefore, these 3 attributes - efficacy, side effect profile and formulation, should be strongly emphasised in promotional efforts towards the physicians by Imperialumab representatives."
   ]
  },
  {
   "cell_type": "markdown",
   "metadata": {},
   "source": [
    "<img src='clin_characteristics.png' width=500>"
   ]
  },
  {
   "cell_type": "markdown",
   "metadata": {},
   "source": [
    "Nevertheless, for the purpose of commercial performance, the crucial question is how effectively Imperialumab's superiority is conveyed to physicians and payers through the available promotional channels. This question can be split in two parts; firstly understading the audience and target marketing, and secondly understanding the balance between the field force size and promotional mix to measure the effectiveness of how these messages are delivered. The latter is examined in section 3.3.   \n",
    "  \n",
    "For analysing the target audience, we use a message recall study from Q4 2018 in which physicians were asked questions as part of a Primary Market research, which “messages” they recall after a visit from a representative. More speicifically, we consider the results in light of the clinical characteristics data for Imperialumab and the competition discussed above:  \n",
    "* **Safety profile -** There is an equal emphasis on the safety profile of all three drugs from physicians, at 16%. In addition, all drugs are rated as first in safety.  \n",
    "* **Formulation -** Formulation is not explicitly mentioned in the chart below, and is probably included in 'Other'. Since Imperialumab is a clear winner compared to its competitors, there should be an increased focus on promoting the superior formulation profile of Imperialumab to physicians.   \n",
    "* **Dosing -**  Messages on Kingsumab dosing profile appear to resonate more strongly with physicians compared to that of Imperialumab and Uclumab. This does not come as a surprise as Kingsumab ranks first in dosing and hence this is likely a result of effective promotion of the rightfully good clinical attribute. Given the large difference between Imperialumab and Kingsumab, at 18% vs 35%, there is an opportunity for Imperialumab to increase promotional efforts on this front.   \n",
    "* **Side effects profile -** 22% of physicians recall messages of 'fewer side effects' for both Imperialumab and Uclumab vs 10% for Kingsumab. Although Imperialumab is not behind its competitors, there is a missed opportunity for differentation here as Imperialumab's side effects profile is superior. An increased emphasis by representatives on Imperialumab's advantage in this front should be considered in the promotional strategy, especially against that of Uculumab.  \n",
    "* **Efficacy -** Another clinical attribute in which Imperialumab ranks superior to it's competitors, which is not reflected strongly in the message recall study results - as Kingsumab has an almost similar recall rate on this attribute. This is also the characteristic that physicians recall most strongly after visits from representatives of all three drugs, and hence the characteristic they are primarily interested in. Therefore, Imperialumab representatives should ensure to focus efforts on making physicians realise the superiority of Imperialumab, especially over its competitors on the Efficacy front. "
   ]
  },
  {
   "cell_type": "markdown",
   "metadata": {},
   "source": [
    "<img src='message_recall.png' width=800>"
   ]
  },
  {
   "cell_type": "markdown",
   "metadata": {},
   "source": [
    "**3.3 Promotional Activity**\n",
    "\n",
    "In promoting Imperialumab to the physicians, it is critical to focus on emphasizing the advantageous clinical attributes of Imperialumab over its competitors - especially Kingsumab. The promotional mix that is currently being used consists of four channels of communication:\n",
    "\n",
    "* F2F detailing via a representative\n",
    "* Medical Education\n",
    "* Unsolicited emails\n",
    "* Hard mail (brochures and information by post).\n",
    "\n",
    "Like all consumers, physicians have preferred ways and means of communication and optimal frequencies of interaction through each of these channels. Getting the channel mix right is critical for good brand performance. We have been given these optimal frequencies (Channel-mix-optimisation-report.pdf), which we used to compare to the internal promotional activity as well as the competitor promotional activity data in the UK."
   ]
  },
  {
   "cell_type": "code",
   "execution_count": 10,
   "metadata": {},
   "outputs": [
    {
     "data": {
      "text/html": [
       "<div>\n",
       "<style scoped>\n",
       "    .dataframe tbody tr th:only-of-type {\n",
       "        vertical-align: middle;\n",
       "    }\n",
       "\n",
       "    .dataframe tbody tr th {\n",
       "        vertical-align: top;\n",
       "    }\n",
       "\n",
       "    .dataframe thead th {\n",
       "        text-align: right;\n",
       "    }\n",
       "</style>\n",
       "<table border=\"1\" class=\"dataframe\">\n",
       "  <thead>\n",
       "    <tr style=\"text-align: right;\">\n",
       "      <th></th>\n",
       "      <th>Face 2 Face</th>\n",
       "      <th>Med Ed</th>\n",
       "      <th>Unsolicited e-mail</th>\n",
       "      <th>Hard mail</th>\n",
       "    </tr>\n",
       "  </thead>\n",
       "  <tbody>\n",
       "    <tr>\n",
       "      <th>South West</th>\n",
       "      <td>12.0</td>\n",
       "      <td>15.0</td>\n",
       "      <td>14.0</td>\n",
       "      <td>15.0</td>\n",
       "    </tr>\n",
       "    <tr>\n",
       "      <th>South East</th>\n",
       "      <td>10.0</td>\n",
       "      <td>12.0</td>\n",
       "      <td>16.0</td>\n",
       "      <td>14.0</td>\n",
       "    </tr>\n",
       "    <tr>\n",
       "      <th>London</th>\n",
       "      <td>13.0</td>\n",
       "      <td>15.0</td>\n",
       "      <td>17.0</td>\n",
       "      <td>16.0</td>\n",
       "    </tr>\n",
       "    <tr>\n",
       "      <th>East Midlands</th>\n",
       "      <td>14.0</td>\n",
       "      <td>13.0</td>\n",
       "      <td>12.0</td>\n",
       "      <td>15.0</td>\n",
       "    </tr>\n",
       "    <tr>\n",
       "      <th>West Midlands</th>\n",
       "      <td>12.0</td>\n",
       "      <td>10.0</td>\n",
       "      <td>19.0</td>\n",
       "      <td>14.0</td>\n",
       "    </tr>\n",
       "    <tr>\n",
       "      <th>North East</th>\n",
       "      <td>11.0</td>\n",
       "      <td>8.0</td>\n",
       "      <td>8.0</td>\n",
       "      <td>16.0</td>\n",
       "    </tr>\n",
       "    <tr>\n",
       "      <th>North West</th>\n",
       "      <td>10.0</td>\n",
       "      <td>11.0</td>\n",
       "      <td>12.0</td>\n",
       "      <td>12.0</td>\n",
       "    </tr>\n",
       "    <tr>\n",
       "      <th>Scotland</th>\n",
       "      <td>8.0</td>\n",
       "      <td>8.0</td>\n",
       "      <td>21.0</td>\n",
       "      <td>10.0</td>\n",
       "    </tr>\n",
       "    <tr>\n",
       "      <th>Northern Ireland</th>\n",
       "      <td>12.0</td>\n",
       "      <td>10.0</td>\n",
       "      <td>14.0</td>\n",
       "      <td>20.0</td>\n",
       "    </tr>\n",
       "    <tr>\n",
       "      <th>Wales</th>\n",
       "      <td>10.0</td>\n",
       "      <td>12.0</td>\n",
       "      <td>10.0</td>\n",
       "      <td>11.0</td>\n",
       "    </tr>\n",
       "  </tbody>\n",
       "</table>\n",
       "</div>"
      ],
      "text/plain": [
       "                  Face 2 Face  Med Ed  Unsolicited e-mail  Hard mail\n",
       "South West               12.0    15.0                14.0       15.0\n",
       "South East               10.0    12.0                16.0       14.0\n",
       "London                   13.0    15.0                17.0       16.0\n",
       "East Midlands            14.0    13.0                12.0       15.0\n",
       "West Midlands            12.0    10.0                19.0       14.0\n",
       "North East               11.0     8.0                 8.0       16.0\n",
       "North West               10.0    11.0                12.0       12.0\n",
       "Scotland                  8.0     8.0                21.0       10.0\n",
       "Northern Ireland         12.0    10.0                14.0       20.0\n",
       "Wales                    10.0    12.0                10.0       11.0"
      ]
     },
     "execution_count": 10,
     "metadata": {},
     "output_type": "execute_result"
    }
   ],
   "source": [
    "imp_prom = pd.read_excel(\"imperialumab-analytics-workshop.xlsx\", \n",
    "                         sheet_name=\"3. Internal promotional activ\", header=3, index_col=1)\n",
    "imp_prom = imp_prom.transpose()\n",
    "imp_prom = imp_prom.dropna()\n",
    "# imp_prom = imp_prom.drop(['Unnamed: 0'])\n",
    "imp_prom"
   ]
  },
  {
   "cell_type": "code",
   "execution_count": 11,
   "metadata": {},
   "outputs": [
    {
     "data": {
      "image/png": "[encoded data removed]",
      "text/plain": [
       "<Figure size 1152x576 with 4 Axes>"
      ]
     },
     "metadata": {
      "needs_background": "light"
     },
     "output_type": "display_data"
    }
   ],
   "source": [
    "channels = list(imp_prom.columns)\n",
    "regions = ['SW', 'SE', 'LND', 'EMD', 'WMD', 'NE', 'NW', 'SCT', 'NIR', 'WAL']\n",
    "optima = [12, 18, 9, 14]\n",
    "fig_no = list('abcd')\n",
    "\n",
    "def draw_prom_plot(ax, channel):\n",
    "    # draw bars\n",
    "    ax.bar(x=imp_prom.index, height=imp_prom[channels[channel]])\n",
    "    # draw annotated hline for optimum\n",
    "    ax.axhline(y=optima[channel], xmin=0, xmax=1, color='r', linewidth=5, alpha=0.5)\n",
    "    ax.text(6.5, optima[channel] + 1, 'optimum activity \\u2248 ' + str(optima[channel]), fontsize=10, color='red')\n",
    "    # set ticks,labels,title\n",
    "    ax.set_xticks(imp_prom.index)\n",
    "    ax.set_xticklabels(regions)\n",
    "    ax.set_title('Figure 2(' + fig_no[channel] + '): Imperialumab ' + channels[channel] +' activity')\n",
    "    if channel > 1:\n",
    "        ax.set_xlabel('Region')\n",
    "\n",
    "\n",
    "fig, ((ax1, ax2), (ax3, ax4)) = plt.subplots(2, 2, sharey=True, figsize=(16,8))\n",
    "draw_prom_plot(ax1, 0)\n",
    "draw_prom_plot(ax2, 1)\n",
    "draw_prom_plot(ax3, 2)\n",
    "draw_prom_plot(ax4, 3)"
   ]
  },
  {
   "cell_type": "markdown",
   "metadata": {},
   "source": [
    "Figure 2 compares Imperialumab's regional promotional activity by channel against the optimal frequency. As we can see, promotional efforts are closer to optimum for face-to-face and hard mail interactions (2(a), 2(d)), with some room for improvement in some regions.\n",
    "\n",
    "In the case of email-activity, as is depicted in figure 2(c), unsolicited e-mail activity is generally significantly higher than the optimal amount. As we know from the provided channel mix optimisation report, more than 10-11 e-mails per year lead to a negative impact on outcome parameters; that is essentially negative effect caused by wasted effort for that particular segment. This should be minimised to the proposed optimum levels. \n",
    "\n",
    "On the contrary, Medical Education activity (2(b)) is significantly lower than the optimum across all regions. There is an opportunity here for Imperialumab to increase medical education interaction with physicians in order to raise awareness, specifically in the areas of clinical attributes which Imperialumab fares better than the competing drugs (as discussed above) and ultimately helps increase sales growth.\n",
    "\n",
    "Furthermore, it is important to examine the channel mix of competitors and alignment with physician preferences."
   ]
  },
  {
   "cell_type": "code",
   "execution_count": 12,
   "metadata": {},
   "outputs": [
    {
     "data": {
      "text/html": [
       "<div>\n",
       "<style scoped>\n",
       "    .dataframe tbody tr th:only-of-type {\n",
       "        vertical-align: middle;\n",
       "    }\n",
       "\n",
       "    .dataframe tbody tr th {\n",
       "        vertical-align: top;\n",
       "    }\n",
       "\n",
       "    .dataframe thead th {\n",
       "        text-align: right;\n",
       "    }\n",
       "</style>\n",
       "<table border=\"1\" class=\"dataframe\">\n",
       "  <thead>\n",
       "    <tr style=\"text-align: right;\">\n",
       "      <th></th>\n",
       "      <th>Face 2 Face</th>\n",
       "      <th>Med Ed</th>\n",
       "      <th>Unsolicited e-mail</th>\n",
       "      <th>Hard mail</th>\n",
       "    </tr>\n",
       "  </thead>\n",
       "  <tbody>\n",
       "    <tr>\n",
       "      <th>South West</th>\n",
       "      <td>24.0</td>\n",
       "      <td>2.0</td>\n",
       "      <td>0.0</td>\n",
       "      <td>15.0</td>\n",
       "    </tr>\n",
       "    <tr>\n",
       "      <th>South East</th>\n",
       "      <td>25.0</td>\n",
       "      <td>5.0</td>\n",
       "      <td>1.0</td>\n",
       "      <td>15.0</td>\n",
       "    </tr>\n",
       "    <tr>\n",
       "      <th>London</th>\n",
       "      <td>21.0</td>\n",
       "      <td>4.0</td>\n",
       "      <td>0.0</td>\n",
       "      <td>15.0</td>\n",
       "    </tr>\n",
       "    <tr>\n",
       "      <th>East Midlands</th>\n",
       "      <td>23.0</td>\n",
       "      <td>6.0</td>\n",
       "      <td>1.0</td>\n",
       "      <td>15.0</td>\n",
       "    </tr>\n",
       "    <tr>\n",
       "      <th>West Midlands</th>\n",
       "      <td>24.0</td>\n",
       "      <td>2.0</td>\n",
       "      <td>2.0</td>\n",
       "      <td>15.0</td>\n",
       "    </tr>\n",
       "    <tr>\n",
       "      <th>North East</th>\n",
       "      <td>25.0</td>\n",
       "      <td>3.0</td>\n",
       "      <td>2.0</td>\n",
       "      <td>15.0</td>\n",
       "    </tr>\n",
       "    <tr>\n",
       "      <th>North West</th>\n",
       "      <td>21.0</td>\n",
       "      <td>6.0</td>\n",
       "      <td>0.0</td>\n",
       "      <td>15.0</td>\n",
       "    </tr>\n",
       "    <tr>\n",
       "      <th>Scotland</th>\n",
       "      <td>25.0</td>\n",
       "      <td>8.0</td>\n",
       "      <td>4.0</td>\n",
       "      <td>15.0</td>\n",
       "    </tr>\n",
       "    <tr>\n",
       "      <th>Northern Ireland</th>\n",
       "      <td>20.0</td>\n",
       "      <td>9.0</td>\n",
       "      <td>1.0</td>\n",
       "      <td>15.0</td>\n",
       "    </tr>\n",
       "    <tr>\n",
       "      <th>Wales</th>\n",
       "      <td>21.0</td>\n",
       "      <td>11.0</td>\n",
       "      <td>0.0</td>\n",
       "      <td>15.0</td>\n",
       "    </tr>\n",
       "  </tbody>\n",
       "</table>\n",
       "</div>"
      ],
      "text/plain": [
       "                  Face 2 Face  Med Ed  Unsolicited e-mail  Hard mail\n",
       "South West               24.0     2.0                 0.0       15.0\n",
       "South East               25.0     5.0                 1.0       15.0\n",
       "London                   21.0     4.0                 0.0       15.0\n",
       "East Midlands            23.0     6.0                 1.0       15.0\n",
       "West Midlands            24.0     2.0                 2.0       15.0\n",
       "North East               25.0     3.0                 2.0       15.0\n",
       "North West               21.0     6.0                 0.0       15.0\n",
       "Scotland                 25.0     8.0                 4.0       15.0\n",
       "Northern Ireland         20.0     9.0                 1.0       15.0\n",
       "Wales                    21.0    11.0                 0.0       15.0"
      ]
     },
     "execution_count": 12,
     "metadata": {},
     "output_type": "execute_result"
    }
   ],
   "source": [
    "ucl_prom = pd.read_excel(\"imperialumab-analytics-workshop.xlsx\", \n",
    "                         sheet_name=\"4. Competitor promotional activ\", header=3, index_col=1, nrows=4)\n",
    "ucl_prom = ucl_prom.transpose()\n",
    "ucl_prom = ucl_prom.dropna()\n",
    "# ucl_prom = ucl_prom.drop(['Unnamed: 0'])\n",
    "ucl_prom"
   ]
  },
  {
   "cell_type": "code",
   "execution_count": 13,
   "metadata": {},
   "outputs": [
    {
     "data": {
      "text/html": [
       "<div>\n",
       "<style scoped>\n",
       "    .dataframe tbody tr th:only-of-type {\n",
       "        vertical-align: middle;\n",
       "    }\n",
       "\n",
       "    .dataframe tbody tr th {\n",
       "        vertical-align: top;\n",
       "    }\n",
       "\n",
       "    .dataframe thead th {\n",
       "        text-align: right;\n",
       "    }\n",
       "</style>\n",
       "<table border=\"1\" class=\"dataframe\">\n",
       "  <thead>\n",
       "    <tr style=\"text-align: right;\">\n",
       "      <th></th>\n",
       "      <th>Face 2 Face</th>\n",
       "      <th>Med Ed</th>\n",
       "      <th>Unsolicited e-mail</th>\n",
       "      <th>Hard mail</th>\n",
       "    </tr>\n",
       "  </thead>\n",
       "  <tbody>\n",
       "    <tr>\n",
       "      <th>South West</th>\n",
       "      <td>12.0</td>\n",
       "      <td>19.0</td>\n",
       "      <td>9.0</td>\n",
       "      <td>13.0</td>\n",
       "    </tr>\n",
       "    <tr>\n",
       "      <th>South East</th>\n",
       "      <td>10.0</td>\n",
       "      <td>20.0</td>\n",
       "      <td>10.0</td>\n",
       "      <td>14.0</td>\n",
       "    </tr>\n",
       "    <tr>\n",
       "      <th>London</th>\n",
       "      <td>13.0</td>\n",
       "      <td>21.0</td>\n",
       "      <td>9.0</td>\n",
       "      <td>16.0</td>\n",
       "    </tr>\n",
       "    <tr>\n",
       "      <th>East Midlands</th>\n",
       "      <td>14.0</td>\n",
       "      <td>19.0</td>\n",
       "      <td>8.0</td>\n",
       "      <td>13.0</td>\n",
       "    </tr>\n",
       "    <tr>\n",
       "      <th>West Midlands</th>\n",
       "      <td>12.0</td>\n",
       "      <td>18.0</td>\n",
       "      <td>7.0</td>\n",
       "      <td>15.0</td>\n",
       "    </tr>\n",
       "    <tr>\n",
       "      <th>North East</th>\n",
       "      <td>11.0</td>\n",
       "      <td>20.0</td>\n",
       "      <td>6.0</td>\n",
       "      <td>17.0</td>\n",
       "    </tr>\n",
       "    <tr>\n",
       "      <th>North West</th>\n",
       "      <td>10.0</td>\n",
       "      <td>21.0</td>\n",
       "      <td>8.0</td>\n",
       "      <td>10.0</td>\n",
       "    </tr>\n",
       "    <tr>\n",
       "      <th>Scotland</th>\n",
       "      <td>8.0</td>\n",
       "      <td>22.0</td>\n",
       "      <td>9.0</td>\n",
       "      <td>12.0</td>\n",
       "    </tr>\n",
       "    <tr>\n",
       "      <th>Northern Ireland</th>\n",
       "      <td>12.0</td>\n",
       "      <td>18.0</td>\n",
       "      <td>10.0</td>\n",
       "      <td>15.0</td>\n",
       "    </tr>\n",
       "    <tr>\n",
       "      <th>Wales</th>\n",
       "      <td>10.0</td>\n",
       "      <td>20.0</td>\n",
       "      <td>8.0</td>\n",
       "      <td>15.0</td>\n",
       "    </tr>\n",
       "  </tbody>\n",
       "</table>\n",
       "</div>"
      ],
      "text/plain": [
       "                  Face 2 Face  Med Ed  Unsolicited e-mail  Hard mail\n",
       "South West               12.0    19.0                 9.0       13.0\n",
       "South East               10.0    20.0                10.0       14.0\n",
       "London                   13.0    21.0                 9.0       16.0\n",
       "East Midlands            14.0    19.0                 8.0       13.0\n",
       "West Midlands            12.0    18.0                 7.0       15.0\n",
       "North East               11.0    20.0                 6.0       17.0\n",
       "North West               10.0    21.0                 8.0       10.0\n",
       "Scotland                  8.0    22.0                 9.0       12.0\n",
       "Northern Ireland         12.0    18.0                10.0       15.0\n",
       "Wales                    10.0    20.0                 8.0       15.0"
      ]
     },
     "execution_count": 13,
     "metadata": {},
     "output_type": "execute_result"
    }
   ],
   "source": [
    "kings_prom = pd.read_excel(\"imperialumab-analytics-workshop.xlsx\", \n",
    "                         sheet_name=\"4. Competitor promotional activ\", header=13, index_col=1, nrows=4)\n",
    "kings_prom = kings_prom.transpose()\n",
    "kings_prom = kings_prom.dropna()\n",
    "# kings_prom = kings_prom.drop(['Unnamed: 0'])\n",
    "kings_prom"
   ]
  },
  {
   "cell_type": "code",
   "execution_count": 14,
   "metadata": {},
   "outputs": [
    {
     "data": {
      "image/png": "[encoded data removed]",
      "text/plain": [
       "<Figure size 1152x576 with 4 Axes>"
      ]
     },
     "metadata": {
      "needs_background": "light"
     },
     "output_type": "display_data"
    }
   ],
   "source": [
    "def draw_comparative_prom_plot(ax, channel):\n",
    "    barWidth = 0.25\n",
    "    # bar heights\n",
    "    imp = imp_prom[channels[channel]]\n",
    "    ucl = ucl_prom[channels[channel]]\n",
    "    kings = kings_prom[channels[channel]]\n",
    "    # bar positions\n",
    "    r1 = np.arange(len(imp))\n",
    "    r2 = [x + barWidth for x in r1]\n",
    "    r3 = [x + barWidth for x in r2]\n",
    "    # draw bars\n",
    "    ax.bar(r1, imp, width=barWidth, edgecolor='white', label='Imperialumab')\n",
    "    ax.bar(r2, ucl, width=barWidth, edgecolor='white', label='Uclumab')\n",
    "    ax.bar(r3, kings, width=barWidth, edgecolor='white', label='Kingsumab')\n",
    "    # draw hline for optimum\n",
    "    ax.axhline(y=optima[channel], xmin=0, xmax=1, color='r', linewidth=2, alpha=0.5)\n",
    "    # set ticks,labels,title,legend\n",
    "    ax.set_xticks([r + barWidth for r in range(len(imp))])\n",
    "    ax.set_xticklabels(regions)\n",
    "    ax.set_title('Figure 3(' + fig_no[channel] + '): ' + channels[channel] +' activity')\n",
    "    if channel > 1:\n",
    "        ax.set_xlabel('Region')\n",
    "    if channel == 3:\n",
    "        ax.legend(loc='upper center', ncol=3, frameon=False)\n",
    "\n",
    "fig, ((ax1, ax2), (ax3, ax4)) = plt.subplots(2, 2, sharey=True, figsize=(16,8))\n",
    "draw_comparative_prom_plot(ax1, 0)\n",
    "draw_comparative_prom_plot(ax2, 1)\n",
    "draw_comparative_prom_plot(ax3, 2)\n",
    "draw_comparative_prom_plot(ax4, 3)"
   ]
  },
  {
   "cell_type": "markdown",
   "metadata": {},
   "source": [
    "Figure 3 compares the regional promotional activity of Imperialumab, Uclumab and Kingsumab by channel against the optimal frequencies from the channel optimisation report. Here the primary focus is on the comparison to the Kingsumab promotional activity as it is the main competitor with increasing sales in the past year.\n",
    "\n",
    "In line with our earlier observations from figure 2(b) and (c), we can see that Kingsumab's promotion strategy is closer in line with the optimum levels for both Medical Education and unsolicited e-mails, unlike Imperialumab's as discussed previously. \n",
    "\n",
    "With too few or too much interaction per year the income parameter is significantly eroded. Kingsumab's promotional efforts in the various regions are aligned with the optimum levels for all the 4 promotional activities. This could be the first significant differentiator which seems to explain Kingsumab's rapid increase in sales against Imperialumab's recent slowdown. As we have seen, Kingsumab is not superior to Imperialumab in clinical attributes but the representatives have done a very good job in coveying the right message to physicians at the right frequencies. This can be said especially for the medical education efforts where the other two competitors have invariably fallen short of the optimum levels and Kingsumab's representatives have effectively conveyed the merits of the drug through appropriate medical education of the physicans at the optimum frequencies in the various regions. \n",
    "\n",
    "Therefore, there is significant evidence that Imperialumab should follow this model and shift promotional focus on Medical Education activities to better compete against Kingsumab and avoid a further loss of market share."
   ]
  },
  {
   "cell_type": "markdown",
   "metadata": {},
   "source": [
    "**3.4 ICER Data**"
   ]
  },
  {
   "cell_type": "markdown",
   "metadata": {},
   "source": [
    "Pancreatic cancer is typically diagnosed in the late stage of the disease.\n",
    "The median survival for untreated advanced pancreatic cancer is about 3-3.5 months after diagnosed. An effective treatment can increase the life expectancy to eight months on average as per relevant researches have indicated.\n",
    "\n",
    "The QALY (Quality Adjusted Life Year) is a generic measure that assesses the value of a medical therapy. It has two dimensions, the years of life and the quality of life lived. The QALY measure presumes that health is a function of length of life and quality of life, and incorporates these values into a single index number ranging between 0 and 1 where 0 represents death and 1 represents the best possible health state.\n",
    "\n",
    "$$ QALY = Years of life   x   Quality of life $$\n",
    "\n",
    "Incremental Cost effectiveness Ratio (ICER) is the methodology, of understanding the comparative cost effectiveness between two medical treatments. It is calculated by dividing the difference in total costs (incremental cost) by the difference in the chosen measure of health outcome or effect (incremental effect) to provide a ratio of ‘extra cost per extra unit of health effect’. This ratio provides an intuitive metric, which is the cost per life year gained, that enables us to judge the value for money of one treatment relative to another treatment."
   ]
  },
  {
   "cell_type": "markdown",
   "metadata": {},
   "source": [
    "We need to make some assumptions based on the clinical characteristics provided and try to calculate the QALY of each treatment.\n",
    "\n",
    "* \tAll treatments will prolong the life expectancy for about 1 year\n",
    "* \tUsing the efficacy, side effect and dosing clinical profiles and assuming the maximum potential perfect health can be provided, we notch down the treatments by 20% when they are not top ranked.\n",
    "\n",
    "Under these assumptions the QALY for Imperialumab is calculated as\n",
    "$ QALY = 1  x   (1-0.2) = 0.8 $       where Quality of life is notched down by 20% due to Dosing   \n",
    "Following the same approach for UCLumab and Kingsumab we have the QALY results as displayed in the table below"
   ]
  },
  {
   "cell_type": "markdown",
   "metadata": {},
   "source": [
    "<img src='Characteristics_table.png' width=500>"
   ]
  },
  {
   "cell_type": "markdown",
   "metadata": {},
   "source": [
    "Using the cost and the effectiveness of the treatments we are going to calculate all possible combinations and see judge the value for money of switching treatments using the ICER formula as shown below,\n",
    "$$ICER = \\frac{{Cost _{new} - Cost _{old}}}{Effectiveness _{new} - Effectiveness}_{old}$$"
   ]
  },
  {
   "cell_type": "markdown",
   "metadata": {},
   "source": [
    "So, a patient switching from Imperialumab to Uclumab will have an ICER value of\n",
    "$$ICER = \\frac{{29,000 - 28,000}}{0.4 - 0.8}= -2,500$$\n",
    "Using the same formula to find all possible combinations of treatment switch we have the results as displayed in the table below"
   ]
  },
  {
   "cell_type": "markdown",
   "metadata": {},
   "source": [
    "<img src='ICER_ratios.png' width=600>"
   ]
  },
  {
   "cell_type": "markdown",
   "metadata": {},
   "source": [
    "The ICER measure answers the following question: Given what is currently being accomplished, what more do we get from a new treatment?\n",
    "\n",
    "As can be observed from the table, switching between any of the therapies can be beneficial either in terms of the effectiveness or in terms of the cost difference, but the incremental cost effectiveness ratio is always negative and equal to 2,500.\n",
    "\n",
    "This result indicates that there is no benefit to a patient switching treatments since the competitors are not significantly differentiated.\n",
    "\n",
    "So, the decision making process for a new patient is a trade-off between cost and effectiveness i.e. they need to set their threshold based on their preferences, but current patients of one treatment have no benefit on switching treatments as per the ICER method."
   ]
  },
  {
   "cell_type": "markdown",
   "metadata": {},
   "source": [
    "## 4. Recommendation Summary\n",
    "\n",
    "**4.1 Findings:**  \n",
    "* 52% decrease in Imperialumab market share since April 2017, 48% since May 2018, with key competing drug being Kingsumab.\n",
    "* Imperialumab outranks its competitors in 3 out of 5 of clinical characteristics, efficacy, lower side effects and formulation profile. However, this differentiation has not been successfully conveyed to physicians.  \n",
    "* Imperialumab ranks 2nd in dosing profile, after Kingsumab, however it is far behind Kingsumab in survey recall study with 18% vs 35%.\n",
    "* Medical Education activity is significantly lower than the optimum across all UK regions. \n",
    "* Unsolicited e-mail activity is generally significantly higher than the optimal amount - negative effect caused by wasted effort for that particular segment.  \n",
    "* ICER result indicates there is no benefit to a patient switching treatments since the competitors are not significantly differentiated.  \n",
    "\n",
    "**4.2 Recommendations:**  \n",
    "* Revise promotional material to focus on Efficacy, Side effects, Formulation and Dosing Profile and stregthen positioning of Imperialumab against it's competitors.\n",
    "* Increase Medical Education interaction with physicians across the UK in order to raise awareness, specifically in the areas of clinical attributes which Imperialumab fares better than the competing drugs and ultimately help increase sales growth.  \n",
    "* Reduce Unsolicited emails to the proposed optimum levels to eliminate the negative impact on outcome parameters.  \n",
    "* Efforts should be concentrated to increase sales and restore market share in the next 24 months. After 2021-22 when Kingsumab and Uclumab patents expire, the original molecule can be copied by other generics and sold at a significantly lower price. Imperiaumab should ensure that they can acquire a strong sales margin to afford a drop in price in the future that will be caused by increased competition."
   ]
  },
  {
   "cell_type": "markdown",
   "metadata": {},
   "source": [
    "## 5. References\n",
    "\n",
    "Incremental Cost-Effectiveness Ratio (ICER) [online]. (2016). York; York Health Economics Consortium; 2016.  \n",
    "https://www.yhec.co.uk/glossary/incremental-cost-effectiveness-ratio-icer/"
   ]
  }
 ],
 "metadata": {
  "kernelspec": {
   "display_name": "Python 3",
   "language": "python",
   "name": "python3"
  },
  "language_info": {
   "codemirror_mode": {
    "name": "ipython",
    "version": 3
   },
   "file_extension": ".py",
   "mimetype": "text/x-python",
   "name": "python",
   "nbconvert_exporter": "python",
   "pygments_lexer": "ipython3",
   "version": "3.7.3"
  },
  "varInspector": {
   "cols": {
    "lenName": 16,
    "lenType": 16,
    "lenVar": 40
   },
   "kernels_config": {
    "python": {
     "delete_cmd_postfix": "",
     "delete_cmd_prefix": "del ",
     "library": "var_list.py",
     "varRefreshCmd": "print(var_dic_list())"
    },
    "r": {
     "delete_cmd_postfix": ") ",
     "delete_cmd_prefix": "rm(",
     "library": "var_list.r",
     "varRefreshCmd": "cat(var_dic_list()) "
    }
   },
   "types_to_exclude": [
    "module",
    "function",
    "builtin_function_or_method",
    "instance",
    "_Feature"
   ],
   "window_display": false
  }
 },
 "nbformat": 4,
 "nbformat_minor": 2
}
